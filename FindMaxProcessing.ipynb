{
 "cells": [
  {
   "cell_type": "code",
   "execution_count": 14,
   "metadata": {},
   "outputs": [],
   "source": [
    "%gui qt5\n",
    "import numpy as np\n",
    "import napari\n",
    "import skimage\n",
    "import imageio\n",
    "import scipy as sp\n",
    "import pandas as pd\n",
    "import matplotlib.pyplot as plt\n",
    "import skimage.feature as ft\n",
    "\n",
    "import plotly.graph_objs as go\n",
    "import plotly.offline as py\n",
    "import plotly.express as px\n",
    "import os\n",
    "from os import path\n",
    "\n",
    "import pandas as pd\n",
    "import numpy as np\n",
    "from ipywidgets import interactive, HBox, VBox\n",
    "\n",
    "from skimage.feature import peak_local_max\n",
    "from skimage import data, img_as_float\n",
    "import tifffile\n",
    "import glob\n",
    "import cv2\n",
    "import findmaxima.findmaxima as findmaxima\n",
    "\n",
    "from ipywidgets import IntProgress\n",
    "from IPython.display import display"
   ]
  },
  {
   "cell_type": "markdown",
   "metadata": {},
   "source": [
    "## Load files and launch napari"
   ]
  },
  {
   "cell_type": "code",
   "execution_count": 70,
   "metadata": {},
   "outputs": [],
   "source": [
    "files = glob.glob('./*/*projection.tif')"
   ]
  },
  {
   "cell_type": "code",
   "execution_count": 71,
   "metadata": {},
   "outputs": [],
   "source": [
    "random_files = np.random.choice(files, size=len(files), replace=False)"
   ]
  },
  {
   "cell_type": "code",
   "execution_count": 75,
   "metadata": {},
   "outputs": [],
   "source": [
    "viewer = napari.Viewer()"
   ]
  },
  {
   "cell_type": "markdown",
   "metadata": {},
   "source": [
    "# Image analysis functions"
   ]
  },
  {
   "cell_type": "markdown",
   "metadata": {},
   "source": [
    "### Utility functions"
   ]
  },
  {
   "cell_type": "markdown",
   "metadata": {},
   "source": [
    "This will show an image in napari from a file name"
   ]
  },
  {
   "cell_type": "code",
   "execution_count": 72,
   "metadata": {},
   "outputs": [],
   "source": [
    "def show_image(file_name, nap_viewer):\n",
    "    data=tifffile.imread('./'+file_name)\n",
    "    viewer.layers.clear()\n",
    "    nap_viewer.add_image(data, channel_axis=0)\n",
    "    nap_viewer.reset_view()\n",
    "    for i in range(0,0):\n",
    "        nap_viewer.layers[i].visible=False\n",
    "    nap_viewer.layers[1].colormap='green'\n",
    "    nap_viewer.layers[1].contrast_limits=[0,2000]\n",
    "    return data\n",
    "    "
   ]
  },
  {
   "cell_type": "markdown",
   "metadata": {},
   "source": [
    "percentile_threshold takes an image, an SNR, and a percentile.  It calculates a stdev for all pixels below the percentile, and then returns a binary image with all pixels above the SNR*stdev set to 1."
   ]
  },
  {
   "cell_type": "code",
   "execution_count": 73,
   "metadata": {},
   "outputs": [],
   "source": [
    "def percentile_threshold(my_img, SNR, ptile):\n",
    "    non_zeros=my_img>0\n",
    "    mn=np.mean(my_img[non_zeros])\n",
    "    ptile_value=np.percentile(my_img[non_zeros], ptile)\n",
    "    stdev=np.std(my_img[non_zeros&(my_img<ptile_value)])\n",
    "    mn=np.mean(my_img[non_zeros&(my_img<ptile_value)])\n",
    "    return (my_img-mn)>(stdev*SNR)"
   ]
  },
  {
   "cell_type": "markdown",
   "metadata": {},
   "source": [
    "peak_finder users Chris Wood's findmaxima implementation to find peaks in an image (it is a clone of ImageJ's find maxima).  It returns a binary image with all pixels that are local maxima set to 1."
   ]
  },
  {
   "cell_type": "code",
   "execution_count": 74,
   "metadata": {},
   "outputs": [],
   "source": [
    "def peak_finder(img, tol=300):\n",
    "    x,y= findmaxima.findmaxima(img, tol)\n",
    "    rtn = np.zeros(img.shape)\n",
    "    rtn[x,y] = 255\n",
    "    return rtn"
   ]
  },
  {
   "cell_type": "markdown",
   "metadata": {},
   "source": [
    "DAPI takes the DAPI image, calls percentile_threshold, fills binary holes, finds the largest binary object, and filters out the edges up to border.  It returns a binary image with the largest DAPI object set to 1 shrunk by border."
   ]
  },
  {
   "cell_type": "code",
   "execution_count": 76,
   "metadata": {},
   "outputs": [],
   "source": [
    "def DAPI(DAPI_img, SNR=10, ptile=15, border=1, show=False):\n",
    "    #smoothed=sp.ndimage.filters.gaussian_filter(DAPI_img, sigma=25)\n",
    "    thresholded=sp.ndimage.binary_fill_holes(percentile_threshold(DAPI_img, SNR, ptile))\n",
    "\n",
    "    labeled_image, labels=sp.ndimage.label(thresholded)\n",
    "    indices, counts = np.unique(labeled_image[labeled_image>0], return_counts=True)\n",
    "    if len(indices)<1: \n",
    "        DAPI_Mask = DAPI_img*0\n",
    "    else:\n",
    "        DAPI_Mask=(labeled_image==indices[np.argmax(counts)])\n",
    "\n",
    "    edt = sp.ndimage.distance_transform_edt(DAPI_Mask)\n",
    "    DAPI_Mask = edt>border\n",
    "    \n",
    "    if show:\n",
    "        viewer.layers.clear()\n",
    "        viewer.add_image(DAPI_img, colormap='magenta', name='DAPI_Img', blending='additive')\n",
    "        viewer.add_image(thresholded*1000, colormap='magenta', name='Thresholded', blending='additive')\n",
    "        viewer.add_image(DAPI_Mask*1000, colormap='green', name='DAPIMask', blending='additive')\n",
    "\n",
    "    return DAPI_Mask"
   ]
  },
  {
   "cell_type": "markdown",
   "metadata": {},
   "source": [
    "Filter the peak image to try and throw out tiny speckles and smooth, then apply Chris's fast findmax algorithm"
   ]
  },
  {
   "cell_type": "code",
   "execution_count": 168,
   "metadata": {},
   "outputs": [],
   "source": [
    "def Peaks(peak_img, threshold, show=False):\n",
    "    min_filtered=sp.ndimage.minimum_filter(peak_img/1.0, 5.0)\n",
    "    min_gauss_filtered=sp.ndimage.gaussian_filter(min_filtered, sigma=0.8)\n",
    "\n",
    "    peak_mask=peak_finder(min_gauss_filtered, threshold)\n",
    "    \n",
    "    if show:\n",
    "        #clear_layers()\n",
    "        viewer.add_image(peak_img, colormap='magenta', name='PeakImg', blending='additive')\n",
    "        viewer.layers[-1].contrast_limits = [120,viewer.layers[-1].contrast_limits[1]/.04]\n",
    "        viewer.add_image(min_filtered, colormap='magenta', name='MinFiltered', blending='additive')\n",
    "        viewer.layers[-1].contrast_limits = [120,viewer.layers[-1].contrast_limits[1]/.04]\n",
    "        viewer.add_image(min_gauss_filtered, colormap='green', name='MinGaussFiltered', blending='additive')\n",
    "        viewer.layers[-1].contrast_limits = [120,viewer.layers[-1].contrast_limits[1]/.04]\n",
    "        viewer.add_image(peak_mask*1000, colormap='green', name='Peaks', blending='additive')\n",
    "    return peak_mask"
   ]
  },
  {
   "cell_type": "markdown",
   "metadata": {},
   "source": [
    "Master processing function:  takes file name, finds the DAPI mask, finds the peaks in the peak_channels defined below with teh accompanying peak_thresholds.  If DAPI is letting in too much or too little:  adjust the DAPI call's SNR."
   ]
  },
  {
   "cell_type": "code",
   "execution_count": 169,
   "metadata": {},
   "outputs": [],
   "source": [
    "def process_file(fname, show=False):\n",
    "    data=tifffile.imread(fname)\n",
    "    \n",
    "    images=[]\n",
    "    peak_images=[]\n",
    "    cur_data=[]\n",
    "    DAPI_channel=3\n",
    "    images.append(data[DAPI_channel,:,:])\n",
    "    DAPI_Mask=DAPI(data[DAPI_channel,:,:], SNR=20, ptile=15, border=20, show=show)   \n",
    "    images.append(DAPI_Mask>0)\n",
    "    \n",
    "    cur_data.append(fname)\n",
    "    cur_data.append(np.sum(DAPI_Mask))\n",
    "\n",
    "    for pc, pt in zip(peak_channels, peak_thresholds):\n",
    "        peak_mask=Peaks(data[pc,:,:], pt, show)\n",
    "        peak_mask=peak_mask*DAPI_Mask\n",
    "\n",
    "        images.append(data[pc,:,:])\n",
    "        images.append(peak_mask)\n",
    "        cur_data.append(np.sum(peak_mask>0))\n",
    "\n",
    "        if show:\n",
    "            pts = np.array(np.where(viewer.layers[-1].data)).T\n",
    "            viewer.add_points(pts, face_color='yellow')\n",
    "\n",
    "    #images.append(data[0,:,:])\n",
    "    #images.append(peak_images[0])\n",
    "    #images.append(data[1,:,:])\n",
    "    #images.append(peak_images[1])\n",
    "    tifffile.imwrite(fname+'_processed.tif', np.asarray(images).astype('float32'), imagej=True)\n",
    "    \n",
    "    return cur_data"
   ]
  },
  {
   "cell_type": "markdown",
   "metadata": {},
   "source": [
    "# Process images"
   ]
  },
  {
   "cell_type": "markdown",
   "metadata": {},
   "source": [
    "### Configure peak finding"
   ]
  },
  {
   "cell_type": "code",
   "execution_count": 203,
   "metadata": {},
   "outputs": [],
   "source": [
    "#For deep red:  0/600\n",
    "#For red:  1/150\n",
    "peak_channels=[0, 1]\n",
    "peak_thresholds=[600, 300]"
   ]
  },
  {
   "cell_type": "markdown",
   "metadata": {},
   "source": [
    "### Process a single file"
   ]
  },
  {
   "cell_type": "code",
   "execution_count": 204,
   "metadata": {},
   "outputs": [],
   "source": [
    "#process_file(random_files[8], show=True)\n",
    "process_file('./20211221_152540_452\\Plate000_Well3_Object1.tif_projection.tif', show=True)\n",
    "\n",
    "viewer.layers[1].visible=False\n",
    "viewer.layers[2].visible=False\n",
    "viewer.layers[0].contrast_limits=[90,500]"
   ]
  },
  {
   "cell_type": "code",
   "execution_count": 205,
   "metadata": {},
   "outputs": [
    {
     "data": {
      "text/plain": [
       "'./20211221_152540_452\\\\Plate004_Well2_Object2.tif_projection.tif'"
      ]
     },
     "execution_count": 205,
     "metadata": {},
     "output_type": "execute_result"
    }
   ],
   "source": [
    "random_files[19]"
   ]
  },
  {
   "cell_type": "markdown",
   "metadata": {},
   "source": [
    "### Process a batch"
   ]
  },
  {
   "cell_type": "code",
   "execution_count": 206,
   "metadata": {},
   "outputs": [
    {
     "name": "stdout",
     "output_type": "stream",
     "text": [
      "[0.0, './20211221_152540_452\\\\Plate002_Well2_Object5.tif_projection.tif']\n",
      "[0.0, './20211221_152540_452\\\\Plate003_Well2_Object2.tif_projection.tif']\n",
      "[1.0, './20211221_152540_452\\\\Plate003_Well1_Object4.tif_projection.tif']\n",
      "[2.0, './20211221_152540_452\\\\Plate003_Well2_Object6.tif_projection.tif']\n",
      "[2.0, './20211221_152540_452\\\\Plate002_Well4_Object1.tif_projection.tif']\n",
      "[3.0, './20211221_152540_452\\\\Plate003_Well4_Object4.tif_projection.tif']\n",
      "[4.0, './20211221_152540_452\\\\Plate001_Well1_Object1.tif_projection.tif']\n",
      "[5.0, './20211221_152540_452\\\\Plate004_Well3_Object2.tif_projection.tif']\n",
      "[5.0, './20211221_152540_452\\\\Plate003_Well3_Object5.tif_projection.tif']\n",
      "[6.0, './20211221_152540_452\\\\Plate001_Well3_Object7.tif_projection.tif']\n",
      "[7.0, './20211221_152540_452\\\\Plate004_Well4_Object7.tif_projection.tif']\n",
      "[8.0, './20211221_152540_452\\\\Plate004_Well4_Object2.tif_projection.tif']\n",
      "[8.0, './20211221_152540_452\\\\Plate001_Well4_Object4.tif_projection.tif']\n",
      "[9.0, './20211221_152540_452\\\\Plate003_Well2_Object3.tif_projection.tif']\n",
      "[10.0, './20211221_152540_452\\\\Plate001_Well2_Object3.tif_projection.tif']\n",
      "[10.0, './20211221_152540_452\\\\Plate003_Well3_Object1.tif_projection.tif']\n",
      "[11.0, './20211221_152540_452\\\\Plate000_Well3_Object4.tif_projection.tif']\n",
      "[12.0, './20211221_152540_452\\\\Plate001_Well1_Object4.tif_projection.tif']\n",
      "[13.0, './20211221_152540_452\\\\Plate000_Well1_Object0.tif_projection.tif']\n",
      "[13.0, './20211221_152540_452\\\\Plate001_Well3_Object0.tif_projection.tif']\n",
      "[14.0, './20211221_152540_452\\\\Plate003_Well2_Object4.tif_projection.tif']\n",
      "[15.0, './20211221_152540_452\\\\Plate002_Well2_Object4.tif_projection.tif']\n",
      "[16.0, './20211221_152540_452\\\\Plate000_Well3_Object3.tif_projection.tif']\n",
      "[16.0, './20211221_152540_452\\\\Plate000_Well3_Object1.tif_projection.tif']\n",
      "[17.0, './20211221_152540_452\\\\Plate003_Well3_Object0.tif_projection.tif']\n",
      "[18.0, './20211221_152540_452\\\\Plate004_Well2_Object3.tif_projection.tif']\n",
      "[18.0, './20211221_152540_452\\\\Plate001_Well3_Object2.tif_projection.tif']\n",
      "[19.0, './20211221_152540_452\\\\Plate003_Well1_Object1.tif_projection.tif']\n",
      "[20.0, './20211221_152540_452\\\\Plate004_Well3_Object8.tif_projection.tif']\n",
      "[21.0, './20211221_152540_452\\\\Plate000_Well3_Object2.tif_projection.tif']\n",
      "[21.0, './20211221_152540_452\\\\Plate004_Well2_Object2.tif_projection.tif']\n",
      "[22.0, './20211221_152540_452\\\\Plate004_Well3_Object4.tif_projection.tif']\n",
      "[23.0, './20211221_152540_452\\\\Plate000_Well2_Object5.tif_projection.tif']\n",
      "[24.0, './20211221_152540_452\\\\Plate002_Well1_Object3.tif_projection.tif']\n",
      "[24.0, './20211221_152540_452\\\\Plate000_Well2_Object4.tif_projection.tif']\n",
      "[25.0, './20211221_152540_452\\\\Plate001_Well4_Object3.tif_projection.tif']\n",
      "[26.0, './20211221_152540_452\\\\Plate002_Well1_Object8.tif_projection.tif']\n",
      "[27.0, './20211221_152540_452\\\\Plate000_Well2_Object0.tif_projection.tif']\n",
      "[27.0, './20211221_152540_452\\\\Plate003_Well2_Object1.tif_projection.tif']\n",
      "[28.0, './20211221_152540_452\\\\Plate001_Well3_Object3.tif_projection.tif']\n",
      "[29.0, './20211221_152540_452\\\\Plate002_Well2_Object1.tif_projection.tif']\n",
      "[29.0, './20211221_152540_452\\\\Plate002_Well1_Object0.tif_projection.tif']\n",
      "[30.0, './20211221_152540_452\\\\Plate003_Well1_Object2.tif_projection.tif']\n",
      "[31.0, './20211221_152540_452\\\\Plate003_Well4_Object1.tif_projection.tif']\n",
      "[32.0, './20211221_152540_452\\\\Plate001_Well1_Object2.tif_projection.tif']\n",
      "[32.0, './20211221_152540_452\\\\Plate002_Well4_Object0.tif_projection.tif']\n",
      "[33.0, './20211221_152540_452\\\\Plate004_Well4_Object4.tif_projection.tif']\n",
      "[34.0, './20211221_152540_452\\\\Plate000_Well4_Object1.tif_projection.tif']\n",
      "[35.0, './20211221_152540_452\\\\Plate001_Well3_Object6.tif_projection.tif']\n",
      "[35.0, './20211221_152540_452\\\\Plate002_Well2_Object3.tif_projection.tif']\n",
      "[36.0, './20211221_152540_452\\\\Plate000_Well3_Object6.tif_projection.tif']\n",
      "[37.0, './20211221_152540_452\\\\Plate001_Well3_Object8.tif_projection.tif']\n",
      "[37.0, './20211221_152540_452\\\\Plate001_Well3_Object1.tif_projection.tif']\n",
      "[38.0, './20211221_152540_452\\\\Plate002_Well4_Object3.tif_projection.tif']\n",
      "[39.0, './20211221_152540_452\\\\Plate002_Well1_Object7.tif_projection.tif']\n",
      "[40.0, './20211221_152540_452\\\\Plate001_Well2_Object1.tif_projection.tif']\n",
      "[40.0, './20211221_152540_452\\\\Plate002_Well2_Object0.tif_projection.tif']\n",
      "[41.0, './20211221_152540_452\\\\Plate004_Well3_Object0.tif_projection.tif']\n",
      "[42.0, './20211221_152540_452\\\\Plate003_Well3_Object4.tif_projection.tif']\n",
      "[43.0, './20211221_152540_452\\\\Plate004_Well4_Object8.tif_projection.tif']\n",
      "[43.0, './20211221_152540_452\\\\Plate001_Well2_Object4.tif_projection.tif']\n",
      "[44.0, './20211221_152540_452\\\\Plate002_Well1_Object9.tif_projection.tif']\n",
      "[45.0, './20211221_152540_452\\\\Plate001_Well1_Object0.tif_projection.tif']\n",
      "[45.0, './20211221_152540_452\\\\Plate001_Well4_Object1.tif_projection.tif']\n",
      "[46.0, './20211221_152540_452\\\\Plate002_Well1_Object1.tif_projection.tif']\n",
      "[47.0, './20211221_152540_452\\\\Plate004_Well1_Object0.tif_projection.tif']\n",
      "[48.0, './20211221_152540_452\\\\Plate000_Well3_Object5.tif_projection.tif']\n",
      "[48.0, './20211221_152540_452\\\\Plate004_Well4_Object1.tif_projection.tif']\n",
      "[49.0, './20211221_152540_452\\\\Plate001_Well1_Object8.tif_projection.tif']\n",
      "[50.0, './20211221_152540_452\\\\Plate001_Well4_Object0.tif_projection.tif']\n",
      "[51.0, './20211221_152540_452\\\\Plate004_Well1_Object1.tif_projection.tif']\n",
      "[51.0, './20211221_152540_452\\\\Plate002_Well2_Object2.tif_projection.tif']\n",
      "[52.0, './20211221_152540_452\\\\Plate003_Well2_Object5.tif_projection.tif']\n",
      "[53.0, './20211221_152540_452\\\\Plate002_Well3_Object0.tif_projection.tif']\n",
      "[54.0, './20211221_152540_452\\\\Plate001_Well2_Object5.tif_projection.tif']\n",
      "[54.0, './20211221_152540_452\\\\Plate002_Well4_Object4.tif_projection.tif']\n",
      "[55.0, './20211221_152540_452\\\\Plate004_Well3_Object7.tif_projection.tif']\n",
      "[56.0, './20211221_152540_452\\\\Plate003_Well4_Object3.tif_projection.tif']\n",
      "[56.0, './20211221_152540_452\\\\Plate004_Well3_Object5.tif_projection.tif']\n",
      "[57.0, './20211221_152540_452\\\\Plate000_Well1_Object3.tif_projection.tif']\n",
      "[58.0, './20211221_152540_452\\\\Plate000_Well4_Object4.tif_projection.tif']\n",
      "[59.0, './20211221_152540_452\\\\Plate001_Well1_Object5.tif_projection.tif']\n",
      "[59.0, './20211221_152540_452\\\\Plate003_Well1_Object3.tif_projection.tif']\n",
      "[60.0, './20211221_152540_452\\\\Plate001_Well1_Object7.tif_projection.tif']\n",
      "[61.0, './20211221_152540_452\\\\Plate002_Well1_Object6.tif_projection.tif']\n",
      "[62.0, './20211221_152540_452\\\\Plate002_Well1_Object2.tif_projection.tif']\n",
      "[62.0, './20211221_152540_452\\\\Plate000_Well3_Object7.tif_projection.tif']\n",
      "[63.0, './20211221_152540_452\\\\Plate003_Well4_Object0.tif_projection.tif']\n",
      "[64.0, './20211221_152540_452\\\\Plate001_Well3_Object5.tif_projection.tif']\n",
      "[64.0, './20211221_152540_452\\\\Plate004_Well3_Object6.tif_projection.tif']\n",
      "[65.0, './20211221_152540_452\\\\Plate003_Well2_Object0.tif_projection.tif']\n",
      "[66.0, './20211221_152540_452\\\\Plate002_Well3_Object5.tif_projection.tif']\n",
      "[67.0, './20211221_152540_452\\\\Plate000_Well4_Object3.tif_projection.tif']\n",
      "[67.0, './20211221_152540_452\\\\Plate003_Well1_Object5.tif_projection.tif']\n",
      "[68.0, './20211221_152540_452\\\\Plate002_Well3_Object4.tif_projection.tif']\n",
      "[69.0, './20211221_152540_452\\\\Plate000_Well4_Object2.tif_projection.tif']\n",
      "[70.0, './20211221_152540_452\\\\Plate000_Well2_Object1.tif_projection.tif']\n",
      "[70.0, './20211221_152540_452\\\\Plate001_Well4_Object2.tif_projection.tif']\n",
      "[71.0, './20211221_152540_452\\\\Plate000_Well1_Object2.tif_projection.tif']\n",
      "[72.0, './20211221_152540_452\\\\Plate004_Well1_Object2.tif_projection.tif']\n",
      "[72.0, './20211221_152540_452\\\\Plate004_Well4_Object0.tif_projection.tif']\n",
      "[73.0, './20211221_152540_452\\\\Plate000_Well3_Object0.tif_projection.tif']\n",
      "[74.0, './20211221_152540_452\\\\Plate001_Well1_Object3.tif_projection.tif']\n",
      "[75.0, './20211221_152540_452\\\\Plate002_Well3_Object6.tif_projection.tif']\n",
      "[75.0, './20211221_152540_452\\\\Plate002_Well3_Object3.tif_projection.tif']\n",
      "[76.0, './20211221_152540_452\\\\Plate002_Well3_Object1.tif_projection.tif']\n",
      "[77.0, './20211221_152540_452\\\\Plate004_Well4_Object6.tif_projection.tif']\n",
      "[78.0, './20211221_152540_452\\\\Plate000_Well2_Object3.tif_projection.tif']\n",
      "[78.0, './20211221_152540_452\\\\Plate002_Well1_Object4.tif_projection.tif']\n",
      "[79.0, './20211221_152540_452\\\\Plate004_Well3_Object1.tif_projection.tif']\n"
     ]
    },
    {
     "name": "stdout",
     "output_type": "stream",
     "text": [
      "[80.0, './20211221_152540_452\\\\Plate003_Well3_Object3.tif_projection.tif']\n",
      "[81.0, './20211221_152540_452\\\\Plate000_Well3_Object8.tif_projection.tif']\n",
      "[81.0, './20211221_152540_452\\\\Plate003_Well4_Object5.tif_projection.tif']\n",
      "[82.0, './20211221_152540_452\\\\Plate002_Well1_Object5.tif_projection.tif']\n",
      "[83.0, './20211221_152540_452\\\\Plate000_Well4_Object0.tif_projection.tif']\n",
      "[83.0, './20211221_152540_452\\\\Plate000_Well3_Object10.tif_projection.tif']\n",
      "[84.0, './20211221_152540_452\\\\Plate002_Well3_Object2.tif_projection.tif']\n",
      "[85.0, './20211221_152540_452\\\\Plate000_Well2_Object2.tif_projection.tif']\n",
      "[86.0, './20211221_152540_452\\\\Plate001_Well1_Object9.tif_projection.tif']\n",
      "[86.0, './20211221_152540_452\\\\Plate001_Well1_Object10.tif_projection.tif']\n",
      "[87.0, './20211221_152540_452\\\\Plate000_Well1_Object1.tif_projection.tif']\n",
      "[88.0, './20211221_152540_452\\\\Plate001_Well2_Object0.tif_projection.tif']\n",
      "[89.0, './20211221_152540_452\\\\Plate001_Well2_Object2.tif_projection.tif']\n",
      "[89.0, './20211221_152540_452\\\\Plate004_Well2_Object0.tif_projection.tif']\n",
      "[90.0, './20211221_152540_452\\\\Plate004_Well2_Object1.tif_projection.tif']\n",
      "[91.0, './20211221_152540_452\\\\Plate004_Well3_Object3.tif_projection.tif']\n",
      "[91.0, './20211221_152540_452\\\\Plate001_Well1_Object6.tif_projection.tif']\n",
      "[92.0, './20211221_152540_452\\\\Plate002_Well4_Object2.tif_projection.tif']\n",
      "[93.0, './20211221_152540_452\\\\Plate004_Well4_Object3.tif_projection.tif']\n",
      "[94.0, './20211221_152540_452\\\\Plate004_Well4_Object5.tif_projection.tif']\n",
      "[94.0, './20211221_152540_452\\\\Plate003_Well3_Object2.tif_projection.tif']\n",
      "[95.0, './20211221_152540_452\\\\Plate003_Well1_Object0.tif_projection.tif']\n",
      "[96.0, './20211221_152540_452\\\\Plate004_Well4_Object9.tif_projection.tif']\n",
      "[97.0, './20211221_152540_452\\\\Plate001_Well3_Object4.tif_projection.tif']\n",
      "[97.0, './20211221_152540_452\\\\Plate000_Well3_Object9.tif_projection.tif']\n",
      "[98.0, './20211221_152540_452\\\\Plate001_Well3_Object9.tif_projection.tif']\n",
      "[99.0, './20211221_152540_452\\\\Plate003_Well4_Object2.tif_projection.tif']\n"
     ]
    }
   ],
   "source": [
    "all_data=[]\n",
    "\n",
    "for i, f in enumerate(files):\n",
    "    all_data.append(process_file(f))\n",
    "    print([np.floor(i*100.0/len(files)), f])"
   ]
  },
  {
   "cell_type": "markdown",
   "metadata": {},
   "source": [
    "Write out the results to csv"
   ]
  },
  {
   "cell_type": "code",
   "execution_count": 207,
   "metadata": {},
   "outputs": [],
   "source": [
    "df=pd.DataFrame(all_data, columns=['File', 'Area', 'Density1', 'Density2'])\n",
    "df.to_csv('Results.csv')"
   ]
  },
  {
   "cell_type": "markdown",
   "metadata": {},
   "source": [
    "# Data Filtering"
   ]
  },
  {
   "cell_type": "markdown",
   "metadata": {},
   "source": [
    "Load and map"
   ]
  },
  {
   "cell_type": "code",
   "execution_count": 208,
   "metadata": {},
   "outputs": [],
   "source": [
    "df=pd.read_csv('Results.csv')\n",
    "df['Area']=df['Area']*0.00078*0.00078\n",
    "\n",
    "df['Density1']=df['Density1']/df['Area']\n",
    "df['Density2']=df['Density2']/df['Area']\n",
    "df['Batch']=df['File'].str.split('\\\\').str[0].str[2:]"
   ]
  },
  {
   "cell_type": "code",
   "execution_count": 209,
   "metadata": {},
   "outputs": [],
   "source": [
    "df['Plate']=(df['File'].str.split('Plate').str[1].str[0:3])\n",
    "df['Well']=df['File'].str.split('Well').str[1].str[0]\n",
    "df['Object']=df['File'].str.split('Object').str[1].str.split('.tif').str[0]\n",
    "\n",
    "df['PlateWell']=df['Plate']+'_'+df['Well']\n",
    "df['Plate'] = df['Plate'].astype(int)\n",
    "df['Well'] = df['Well'].astype(int)"
   ]
  },
  {
   "cell_type": "code",
   "execution_count": 210,
   "metadata": {},
   "outputs": [],
   "source": [
    "mapper = pd.read_csv('Mappers.csv')\n",
    "df = df.merge(mapper, on=['Batch', 'Plate', 'Well'])"
   ]
  },
  {
   "cell_type": "markdown",
   "metadata": {},
   "source": [
    "### Explore and filter"
   ]
  },
  {
   "cell_type": "code",
   "execution_count": 214,
   "metadata": {},
   "outputs": [],
   "source": [
    "def get_bad_list():\n",
    "    if path.exists(\"Bad_List.csv\"):\n",
    "        bad_list = pd.read_csv('Bad_List.csv').drop(['Unnamed: 0'], axis=1)\n",
    "    else:\n",
    "        bad_list = pd.DataFrame(columns=['File'])\n",
    "    return bad_list"
   ]
  },
  {
   "cell_type": "code",
   "execution_count": 215,
   "metadata": {},
   "outputs": [
    {
     "data": {
      "application/vnd.jupyter.widget-view+json": {
       "model_id": "e9d95311db25489d8ca7cc398d58053b",
       "version_major": 2,
       "version_minor": 0
      },
      "text/plain": [
       "FigureWidget({\n",
       "    'data': [{'alignmentgroup': 'True',\n",
       "              'boxpoints': 'all',\n",
       "              'custom…"
      ]
     },
     "metadata": {},
     "output_type": "display_data"
    }
   ],
   "source": [
    "bad_list = get_bad_list()\n",
    "\n",
    "df = df[~(df['File'].isin(bad_list['File']))]\n",
    "\n",
    "f=go.FigureWidget(\n",
    "    px.box(df, x='Slide No.', y='Density2', hover_data=['File'], points='all', height=600)\n",
    "    )\n",
    "def selection_fn(trace,points,selector):\n",
    "    \n",
    "    if (len(points.point_inds)>0):\n",
    "        \n",
    "        global bad_list\n",
    "        \n",
    "        file = f.data[points.trace_index]['customdata'][points.point_inds[-1]][0]\n",
    "        #bad_list = bad_list.append(pd.DataFrame([[file]], columns=bad_list.columns))\n",
    "        bad_list = pd.concat([bad_list, pd.DataFrame([[file]], columns=bad_list.columns)])\n",
    "        bad_list.to_csv('Bad_List.csv')\n",
    "        print(file)\n",
    "     \n",
    "                \n",
    "def click_fn(trace, points, state):\n",
    "    \n",
    "    if (len(points.point_inds)>0):\n",
    "        print(f.data[points.trace_index]['customdata'][points.point_inds[-1]])\n",
    "        file = f.data[points.trace_index]['customdata'][points.point_inds[-1]][0]\n",
    "        show_image(file+'_processed.tif', viewer)\n",
    "        \n",
    "        for a in range(0,len(viewer.layers)):\n",
    "            viewer.layers[a].visible = False\n",
    "        #viewer.layers[-2].visible = True\n",
    "        viewer.layers[-2].visible = True\n",
    "        viewer.layers[-2].colormap = 'magenta'\n",
    "        viewer.layers[-2].contrast_limits = [100,250]\n",
    "        viewer.layers[1].contrast_limits = [0,1]\n",
    "        \n",
    "        pts = np.array(np.where(viewer.layers[-1].data)).T\n",
    "        viewer.add_points(pts, face_color='yellow', name='Piwi')\n",
    "        \n",
    "        pts = np.array(np.where(viewer.layers[3].data)).T\n",
    "        viewer.add_points(pts, face_color='yellow', name='H3p')\n",
    "            \n",
    "        #viewer.layers[6].colormap='magenta'\n",
    "        #viewer.layers[5].colormap='yellow'\n",
    "        #viewer.layers[6].contrast_limits = [90,500]\n",
    "\n",
    "f.data[0].on_selection(selection_fn)\n",
    "\n",
    "f.data[0].on_click(click_fn)\n",
    "\n",
    "f"
   ]
  },
  {
   "cell_type": "markdown",
   "metadata": {},
   "source": [
    "# Plot  results"
   ]
  },
  {
   "cell_type": "code",
   "execution_count": 216,
   "metadata": {},
   "outputs": [],
   "source": [
    "df = df.sort_values(by='Timepoint')"
   ]
  },
  {
   "cell_type": "code",
   "execution_count": 217,
   "metadata": {},
   "outputs": [
    {
     "data": {
      "application/vnd.jupyter.widget-view+json": {
       "model_id": "0d796a81e8cb44df8d9acb265cf84307",
       "version_major": 2,
       "version_minor": 0
      },
      "text/plain": [
       "FigureWidget({\n",
       "    'data': [{'alignmentgroup': 'True',\n",
       "              'boxpoints': 'all',\n",
       "              'custom…"
      ]
     },
     "metadata": {},
     "output_type": "display_data"
    },
    {
     "name": "stdout",
     "output_type": "stream",
     "text": [
      "126\n",
      "./20211221_152540_452\\Plate000_Well4_Object0.tif_projection.tif\n",
      "76\n",
      "./20211221_152540_452\\Plate001_Well4_Object4.tif_projection.tif\n",
      "84\n",
      "./20211221_152540_452\\Plate001_Well2_Object5.tif_projection.tif\n",
      "3\n",
      "./20211221_152540_452\\Plate002_Well2_Object3.tif_projection.tif\n",
      "105\n",
      "./20211221_152540_452\\Plate004_Well2_Object1.tif_projection.tif\n"
     ]
    }
   ],
   "source": [
    "f=go.FigureWidget(\n",
    "    px.box(df.reset_index(), \n",
    "           x='Secondary name', y='Density2', color='Primary name', points='all', height=800, hover_data=['index', 'File'])\n",
    "    )\n",
    "\n",
    "                \n",
    "def click_fn(trace, points, state):\n",
    "    \n",
    "    if (len(points.point_inds)>0):\n",
    "        idx = f.data[points.trace_index]['customdata'][points.point_inds[-1]][0]\n",
    "        print(idx)\n",
    "        file = df.loc[idx,'File']\n",
    "        show_image(file+'_processed.tif', viewer)\n",
    "        \n",
    "        for a in range(0,len(viewer.layers)):\n",
    "            viewer.layers[a].visible = False\n",
    "            \n",
    "        viewer.layers[2].colormap='magenta'\n",
    "        viewer.layers[3].colormap='yellow'\n",
    "        viewer.layers[4].colormap='magenta'\n",
    "        viewer.layers[5].colormap='yellow'\n",
    "        \n",
    "        viewer.layers[4].visible = True\n",
    "        print(file)\n",
    "        viewer.layers[2].contrast_limits = [90,2000]\n",
    "        viewer.layers[4].contrast_limits = [90,2000]\n",
    "        viewer.layers[2].name = 'H3p'\n",
    "        viewer.layers[4].name = 'Piwi'\n",
    "\n",
    "        pts = np.array(np.where(viewer.layers[5].data)).T\n",
    "        viewer.add_points(pts, face_color='yellow', name='Piwi Spots', visible=True)\n",
    "        \n",
    "        pts = np.array(np.where(viewer.layers[3].data)).T\n",
    "        viewer.add_points(pts, face_color='yellow', name='H3p Spots', visible=False)\n",
    "\n",
    "for a in f.data:\n",
    "    a.on_click(click_fn)\n",
    "\n",
    "f"
   ]
  },
  {
   "cell_type": "code",
   "execution_count": 123,
   "metadata": {},
   "outputs": [],
   "source": [
    "df.to_csv('Analysis.csv')"
   ]
  },
  {
   "cell_type": "code",
   "execution_count": 223,
   "metadata": {},
   "outputs": [
    {
     "data": {
      "application/vnd.plotly.v1+json": {
       "config": {
        "plotlyServerURL": "https://plot.ly"
       },
       "data": [
        {
         "alignmentgroup": "True",
         "boxpoints": "all",
         "customdata": [
          [
           75,
           "./20211221_152540_452\\Plate004_Well4_Object9.tif_projection.tif",
           "Far red"
          ],
          [
           69,
           "./20211221_152540_452\\Plate004_Well4_Object8.tif_projection.tif",
           "Far red"
          ],
          [
           44,
           "./20211221_152540_452\\Plate004_Well3_Object0.tif_projection.tif",
           "Far red"
          ],
          [
           41,
           "./20211221_152540_452\\Plate004_Well3_Object2.tif_projection.tif",
           "Far red"
          ],
          [
           49,
           "./20211221_152540_452\\Plate004_Well3_Object3.tif_projection.tif",
           "Far red"
          ],
          [
           43,
           "./20211221_152540_452\\Plate004_Well3_Object4.tif_projection.tif",
           "Far red"
          ],
          [
           46,
           "./20211221_152540_452\\Plate004_Well3_Object5.tif_projection.tif",
           "Far red"
          ],
          [
           47,
           "./20211221_152540_452\\Plate004_Well3_Object6.tif_projection.tif",
           "Far red"
          ],
          [
           45,
           "./20211221_152540_452\\Plate004_Well3_Object7.tif_projection.tif",
           "Far red"
          ],
          [
           48,
           "./20211221_152540_452\\Plate004_Well3_Object1.tif_projection.tif",
           "Far red"
          ],
          [
           71,
           "./20211221_152540_452\\Plate004_Well4_Object0.tif_projection.tif",
           "Far red"
          ],
          [
           70,
           "./20211221_152540_452\\Plate004_Well4_Object1.tif_projection.tif",
           "Far red"
          ],
          [
           67,
           "./20211221_152540_452\\Plate004_Well4_Object2.tif_projection.tif",
           "Far red"
          ],
          [
           73,
           "./20211221_152540_452\\Plate004_Well4_Object3.tif_projection.tif",
           "Far red"
          ],
          [
           68,
           "./20211221_152540_452\\Plate004_Well4_Object4.tif_projection.tif",
           "Far red"
          ],
          [
           74,
           "./20211221_152540_452\\Plate004_Well4_Object5.tif_projection.tif",
           "Far red"
          ],
          [
           72,
           "./20211221_152540_452\\Plate004_Well4_Object6.tif_projection.tif",
           "Far red"
          ],
          [
           66,
           "./20211221_152540_452\\Plate004_Well4_Object7.tif_projection.tif",
           "Far red"
          ],
          [
           42,
           "./20211221_152540_452\\Plate004_Well3_Object8.tif_projection.tif",
           "Far red"
          ]
         ],
         "hovertemplate": "RNAi=WT<br>Timepoint=%{x}<br>Density=%{y}<br>index=%{customdata[0]}<br>File=%{customdata[1]}<br>Color=%{customdata[2]}<extra></extra>",
         "legendgroup": "WT",
         "marker": {
          "color": "#636efa"
         },
         "name": "WT",
         "notched": false,
         "offsetgroup": "WT",
         "orientation": "v",
         "showlegend": true,
         "type": "box",
         "x": [
          "0 dpa",
          "0 dpa",
          "0 dpa",
          "0 dpa",
          "0 dpa",
          "0 dpa",
          "0 dpa",
          "0 dpa",
          "0 dpa",
          "0 dpa",
          "0 dpa",
          "0 dpa",
          "0 dpa",
          "0 dpa",
          "0 dpa",
          "0 dpa",
          "0 dpa",
          "0 dpa",
          "0 dpa"
         ],
         "x0": " ",
         "xaxis": "x",
         "y": [
          99.76834016796401,
          112.83547488479249,
          89.73356167294372,
          111.99437135687421,
          182.5877655172879,
          119.29106805882431,
          113.11769104892984,
          114.12424189028738,
          153.65942574495497,
          125.50629112332861,
          136.0948047481106,
          177.6177549594732,
          232.5421676496777,
          127.11576978633633,
          127.96566691855658,
          87.66480303568484,
          107.5767606125321,
          169.65335438504704,
          98.28977197394585
         ],
         "y0": " ",
         "yaxis": "y"
        },
        {
         "alignmentgroup": "True",
         "boxpoints": "all",
         "customdata": [
          [
           61,
           "./20211221_152540_452\\Plate001_Well3_Object8.tif_projection.tif",
           "Red"
          ],
          [
           65,
           "./20211221_152540_452\\Plate001_Well3_Object9.tif_projection.tif",
           "Red"
          ],
          [
           56,
           "./20211221_152540_452\\Plate001_Well3_Object7.tif_projection.tif",
           "Red"
          ],
          [
           60,
           "./20211221_152540_452\\Plate001_Well3_Object6.tif_projection.tif",
           "Red"
          ],
          [
           94,
           "./20211221_152540_452\\Plate000_Well3_Object0.tif_projection.tif",
           "Far red"
          ],
          [
           64,
           "./20211221_152540_452\\Plate001_Well3_Object4.tif_projection.tif",
           "Red"
          ],
          [
           63,
           "./20211221_152540_452\\Plate001_Well3_Object5.tif_projection.tif",
           "Red"
          ],
          [
           97,
           "./20211221_152540_452\\Plate000_Well3_Object9.tif_projection.tif",
           "Far red"
          ],
          [
           95,
           "./20211221_152540_452\\Plate000_Well3_Object8.tif_projection.tif",
           "Far red"
          ],
          [
           93,
           "./20211221_152540_452\\Plate000_Well3_Object7.tif_projection.tif",
           "Far red"
          ],
          [
           92,
           "./20211221_152540_452\\Plate000_Well3_Object5.tif_projection.tif",
           "Far red"
          ],
          [
           87,
           "./20211221_152540_452\\Plate000_Well3_Object4.tif_projection.tif",
           "Far red"
          ],
          [
           62,
           "./20211221_152540_452\\Plate001_Well3_Object1.tif_projection.tif",
           "Red"
          ],
          [
           88,
           "./20211221_152540_452\\Plate000_Well3_Object3.tif_projection.tif",
           "Far red"
          ],
          [
           90,
           "./20211221_152540_452\\Plate000_Well3_Object2.tif_projection.tif",
           "Far red"
          ],
          [
           96,
           "./20211221_152540_452\\Plate000_Well3_Object10.tif_projection.tif",
           "Far red"
          ],
          [
           89,
           "./20211221_152540_452\\Plate000_Well3_Object1.tif_projection.tif",
           "Far red"
          ],
          [
           58,
           "./20211221_152540_452\\Plate001_Well3_Object2.tif_projection.tif",
           "Red"
          ],
          [
           59,
           "./20211221_152540_452\\Plate001_Well3_Object3.tif_projection.tif",
           "Red"
          ],
          [
           91,
           "./20211221_152540_452\\Plate000_Well3_Object6.tif_projection.tif",
           "Far red"
          ],
          [
           126,
           "./20211221_152540_452\\Plate000_Well4_Object0.tif_projection.tif",
           "Far red"
          ],
          [
           122,
           "./20211221_152540_452\\Plate000_Well4_Object1.tif_projection.tif",
           "Far red"
          ],
          [
           125,
           "./20211221_152540_452\\Plate000_Well4_Object2.tif_projection.tif",
           "Far red"
          ],
          [
           124,
           "./20211221_152540_452\\Plate000_Well4_Object3.tif_projection.tif",
           "Far red"
          ],
          [
           123,
           "./20211221_152540_452\\Plate000_Well4_Object4.tif_projection.tif",
           "Far red"
          ],
          [
           76,
           "./20211221_152540_452\\Plate001_Well4_Object4.tif_projection.tif",
           "Red"
          ],
          [
           79,
           "./20211221_152540_452\\Plate001_Well4_Object0.tif_projection.tif",
           "Red"
          ],
          [
           78,
           "./20211221_152540_452\\Plate001_Well4_Object1.tif_projection.tif",
           "Red"
          ],
          [
           80,
           "./20211221_152540_452\\Plate001_Well4_Object2.tif_projection.tif",
           "Red"
          ],
          [
           77,
           "./20211221_152540_452\\Plate001_Well4_Object3.tif_projection.tif",
           "Red"
          ],
          [
           127,
           "./20211221_152540_452\\Plate004_Well1_Object0.tif_projection.tif",
           "Red"
          ],
          [
           129,
           "./20211221_152540_452\\Plate004_Well1_Object2.tif_projection.tif",
           "Red"
          ],
          [
           128,
           "./20211221_152540_452\\Plate004_Well1_Object1.tif_projection.tif",
           "Red"
          ]
         ],
         "hovertemplate": "RNAi=unc<br>Timepoint=%{x}<br>Density=%{y}<br>index=%{customdata[0]}<br>File=%{customdata[1]}<br>Color=%{customdata[2]}<extra></extra>",
         "legendgroup": "unc",
         "marker": {
          "color": "#EF553B"
         },
         "name": "unc",
         "notched": false,
         "offsetgroup": "unc",
         "orientation": "v",
         "showlegend": true,
         "type": "box",
         "x": [
          "2 dpa",
          "2 dpa",
          "2 dpa",
          "2 dpa",
          "2 dpa",
          "2 dpa",
          "2 dpa",
          "2 dpa",
          "2 dpa",
          "2 dpa",
          "2 dpa",
          "2 dpa",
          "2 dpa",
          "2 dpa",
          "2 dpa",
          "2 dpa",
          "2 dpa",
          "2 dpa",
          "2 dpa",
          "2 dpa",
          "4 dpa",
          "4 dpa",
          "4 dpa",
          "4 dpa",
          "4 dpa",
          "4 dpa",
          "4 dpa",
          "4 dpa",
          "4 dpa",
          "4 dpa",
          "7 dpa",
          "7 dpa",
          "7 dpa"
         ],
         "x0": " ",
         "xaxis": "x",
         "y": [
          345.3136384264716,
          460.0326478100175,
          324.79259243184254,
          363.84643741767155,
          418.28132765535446,
          503.0949908771885,
          423.9807090683852,
          364.2784277358381,
          406.9123516776357,
          387.356270903667,
          340.7446283574194,
          333.8717948916693,
          391.3150578458806,
          459.2034335191768,
          386.702069688907,
          462.15295275283836,
          396.86689831301294,
          390.72446253415575,
          396.63072147960344,
          394.8495061321948,
          276.82939364507666,
          288.7850986309622,
          291.0890942287263,
          315.4614302651791,
          298.19916712846424,
          322.36225786225475,
          275.7671727873229,
          320.6864071574118,
          320.8050968707195,
          339.13369881914446,
          280.96594992196646,
          152.9254617544052,
          180.80323586450368
         ],
         "y0": " ",
         "yaxis": "y"
        },
        {
         "alignmentgroup": "True",
         "boxpoints": "all",
         "customdata": [
          [
           114,
           "./20211221_152540_452\\Plate002_Well1_Object0.tif_projection.tif",
           "Red"
          ],
          [
           117,
           "./20211221_152540_452\\Plate002_Well1_Object1.tif_projection.tif",
           "Red"
          ],
          [
           119,
           "./20211221_152540_452\\Plate002_Well1_Object2.tif_projection.tif",
           "Red"
          ],
          [
           118,
           "./20211221_152540_452\\Plate002_Well1_Object6.tif_projection.tif",
           "Red"
          ],
          [
           120,
           "./20211221_152540_452\\Plate002_Well1_Object4.tif_projection.tif",
           "Red"
          ],
          [
           121,
           "./20211221_152540_452\\Plate002_Well1_Object5.tif_projection.tif",
           "Red"
          ],
          [
           115,
           "./20211221_152540_452\\Plate002_Well1_Object7.tif_projection.tif",
           "Red"
          ],
          [
           113,
           "./20211221_152540_452\\Plate002_Well1_Object8.tif_projection.tif",
           "Red"
          ],
          [
           116,
           "./20211221_152540_452\\Plate002_Well1_Object9.tif_projection.tif",
           "Red"
          ],
          [
           112,
           "./20211221_152540_452\\Plate002_Well1_Object3.tif_projection.tif",
           "Red"
          ],
          [
           35,
           "./20211221_152540_452\\Plate001_Well1_Object5.tif_projection.tif",
           "Far red"
          ],
          [
           40,
           "./20211221_152540_452\\Plate001_Well1_Object6.tif_projection.tif",
           "Far red"
          ],
          [
           36,
           "./20211221_152540_452\\Plate001_Well1_Object7.tif_projection.tif",
           "Far red"
          ],
          [
           34,
           "./20211221_152540_452\\Plate001_Well1_Object8.tif_projection.tif",
           "Far red"
          ],
          [
           32,
           "./20211221_152540_452\\Plate001_Well1_Object2.tif_projection.tif",
           "Far red"
          ],
          [
           38,
           "./20211221_152540_452\\Plate001_Well1_Object9.tif_projection.tif",
           "Far red"
          ],
          [
           31,
           "./20211221_152540_452\\Plate001_Well1_Object4.tif_projection.tif",
           "Far red"
          ],
          [
           82,
           "./20211221_152540_452\\Plate001_Well2_Object1.tif_projection.tif",
           "Far red"
          ],
          [
           0,
           "./20211221_152540_452\\Plate002_Well2_Object5.tif_projection.tif",
           "Red"
          ],
          [
           1,
           "./20211221_152540_452\\Plate002_Well2_Object4.tif_projection.tif",
           "Red"
          ],
          [
           3,
           "./20211221_152540_452\\Plate002_Well2_Object3.tif_projection.tif",
           "Red"
          ],
          [
           5,
           "./20211221_152540_452\\Plate002_Well2_Object2.tif_projection.tif",
           "Red"
          ],
          [
           2,
           "./20211221_152540_452\\Plate002_Well2_Object1.tif_projection.tif",
           "Red"
          ],
          [
           84,
           "./20211221_152540_452\\Plate001_Well2_Object5.tif_projection.tif",
           "Far red"
          ],
          [
           86,
           "./20211221_152540_452\\Plate001_Well2_Object2.tif_projection.tif",
           "Far red"
          ],
          [
           81,
           "./20211221_152540_452\\Plate001_Well2_Object3.tif_projection.tif",
           "Far red"
          ],
          [
           83,
           "./20211221_152540_452\\Plate001_Well2_Object4.tif_projection.tif",
           "Far red"
          ],
          [
           103,
           "./20211221_152540_452\\Plate004_Well2_Object2.tif_projection.tif",
           "Red"
          ],
          [
           104,
           "./20211221_152540_452\\Plate004_Well2_Object0.tif_projection.tif",
           "Red"
          ],
          [
           102,
           "./20211221_152540_452\\Plate004_Well2_Object3.tif_projection.tif",
           "Red"
          ],
          [
           105,
           "./20211221_152540_452\\Plate004_Well2_Object1.tif_projection.tif",
           "Red"
          ]
         ],
         "hovertemplate": "RNAi=pabp2<br>Timepoint=%{x}<br>Density=%{y}<br>index=%{customdata[0]}<br>File=%{customdata[1]}<br>Color=%{customdata[2]}<extra></extra>",
         "legendgroup": "pabp2",
         "marker": {
          "color": "#00cc96"
         },
         "name": "pabp2",
         "notched": false,
         "offsetgroup": "pabp2",
         "orientation": "v",
         "showlegend": true,
         "type": "box",
         "x": [
          "2 dpa",
          "2 dpa",
          "2 dpa",
          "2 dpa",
          "2 dpa",
          "2 dpa",
          "2 dpa",
          "2 dpa",
          "2 dpa",
          "2 dpa",
          "2 dpa",
          "2 dpa",
          "2 dpa",
          "2 dpa",
          "2 dpa",
          "2 dpa",
          "2 dpa",
          "4 dpa",
          "4 dpa",
          "4 dpa",
          "4 dpa",
          "4 dpa",
          "4 dpa",
          "4 dpa",
          "4 dpa",
          "4 dpa",
          "4 dpa",
          "7 dpa",
          "7 dpa",
          "7 dpa",
          "7 dpa"
         ],
         "x0": " ",
         "xaxis": "x",
         "y": [
          500.1114301158904,
          472.13431973067406,
          531.3283855974304,
          494.9624107011627,
          405.39120228692775,
          420.21866702170985,
          459.48366423440683,
          450.9200352046377,
          500.6293642284868,
          441.01842423473653,
          607.766194946506,
          512.1832527849413,
          396.3332026768121,
          461.0720634340205,
          333.79728661121874,
          261.0317991531206,
          528.5546433986917,
          318.09681040825683,
          482.5547077244915,
          467.55997436967647,
          498.2509946337443,
          540.1004380956481,
          486.1912957000812,
          398.3824393992165,
          408.0451435696384,
          349.33924816843603,
          476.50857697903047,
          325.8062312998475,
          164.0410225048845,
          24.28019942659611,
          87.25226870752137
         ],
         "y0": " ",
         "yaxis": "y"
        }
       ],
       "layout": {
        "boxmode": "group",
        "height": 800,
        "legend": {
         "title": {
          "text": "RNAi"
         },
         "tracegroupgap": 0
        },
        "margin": {
         "t": 60
        },
        "template": {
         "data": {
          "bar": [
           {
            "error_x": {
             "color": "#2a3f5f"
            },
            "error_y": {
             "color": "#2a3f5f"
            },
            "marker": {
             "line": {
              "color": "#E5ECF6",
              "width": 0.5
             }
            },
            "type": "bar"
           }
          ],
          "barpolar": [
           {
            "marker": {
             "line": {
              "color": "#E5ECF6",
              "width": 0.5
             }
            },
            "type": "barpolar"
           }
          ],
          "carpet": [
           {
            "aaxis": {
             "endlinecolor": "#2a3f5f",
             "gridcolor": "white",
             "linecolor": "white",
             "minorgridcolor": "white",
             "startlinecolor": "#2a3f5f"
            },
            "baxis": {
             "endlinecolor": "#2a3f5f",
             "gridcolor": "white",
             "linecolor": "white",
             "minorgridcolor": "white",
             "startlinecolor": "#2a3f5f"
            },
            "type": "carpet"
           }
          ],
          "choropleth": [
           {
            "colorbar": {
             "outlinewidth": 0,
             "ticks": ""
            },
            "type": "choropleth"
           }
          ],
          "contour": [
           {
            "colorbar": {
             "outlinewidth": 0,
             "ticks": ""
            },
            "colorscale": [
             [
              0,
              "#0d0887"
             ],
             [
              0.1111111111111111,
              "#46039f"
             ],
             [
              0.2222222222222222,
              "#7201a8"
             ],
             [
              0.3333333333333333,
              "#9c179e"
             ],
             [
              0.4444444444444444,
              "#bd3786"
             ],
             [
              0.5555555555555556,
              "#d8576b"
             ],
             [
              0.6666666666666666,
              "#ed7953"
             ],
             [
              0.7777777777777778,
              "#fb9f3a"
             ],
             [
              0.8888888888888888,
              "#fdca26"
             ],
             [
              1,
              "#f0f921"
             ]
            ],
            "type": "contour"
           }
          ],
          "contourcarpet": [
           {
            "colorbar": {
             "outlinewidth": 0,
             "ticks": ""
            },
            "type": "contourcarpet"
           }
          ],
          "heatmap": [
           {
            "colorbar": {
             "outlinewidth": 0,
             "ticks": ""
            },
            "colorscale": [
             [
              0,
              "#0d0887"
             ],
             [
              0.1111111111111111,
              "#46039f"
             ],
             [
              0.2222222222222222,
              "#7201a8"
             ],
             [
              0.3333333333333333,
              "#9c179e"
             ],
             [
              0.4444444444444444,
              "#bd3786"
             ],
             [
              0.5555555555555556,
              "#d8576b"
             ],
             [
              0.6666666666666666,
              "#ed7953"
             ],
             [
              0.7777777777777778,
              "#fb9f3a"
             ],
             [
              0.8888888888888888,
              "#fdca26"
             ],
             [
              1,
              "#f0f921"
             ]
            ],
            "type": "heatmap"
           }
          ],
          "heatmapgl": [
           {
            "colorbar": {
             "outlinewidth": 0,
             "ticks": ""
            },
            "colorscale": [
             [
              0,
              "#0d0887"
             ],
             [
              0.1111111111111111,
              "#46039f"
             ],
             [
              0.2222222222222222,
              "#7201a8"
             ],
             [
              0.3333333333333333,
              "#9c179e"
             ],
             [
              0.4444444444444444,
              "#bd3786"
             ],
             [
              0.5555555555555556,
              "#d8576b"
             ],
             [
              0.6666666666666666,
              "#ed7953"
             ],
             [
              0.7777777777777778,
              "#fb9f3a"
             ],
             [
              0.8888888888888888,
              "#fdca26"
             ],
             [
              1,
              "#f0f921"
             ]
            ],
            "type": "heatmapgl"
           }
          ],
          "histogram": [
           {
            "marker": {
             "colorbar": {
              "outlinewidth": 0,
              "ticks": ""
             }
            },
            "type": "histogram"
           }
          ],
          "histogram2d": [
           {
            "colorbar": {
             "outlinewidth": 0,
             "ticks": ""
            },
            "colorscale": [
             [
              0,
              "#0d0887"
             ],
             [
              0.1111111111111111,
              "#46039f"
             ],
             [
              0.2222222222222222,
              "#7201a8"
             ],
             [
              0.3333333333333333,
              "#9c179e"
             ],
             [
              0.4444444444444444,
              "#bd3786"
             ],
             [
              0.5555555555555556,
              "#d8576b"
             ],
             [
              0.6666666666666666,
              "#ed7953"
             ],
             [
              0.7777777777777778,
              "#fb9f3a"
             ],
             [
              0.8888888888888888,
              "#fdca26"
             ],
             [
              1,
              "#f0f921"
             ]
            ],
            "type": "histogram2d"
           }
          ],
          "histogram2dcontour": [
           {
            "colorbar": {
             "outlinewidth": 0,
             "ticks": ""
            },
            "colorscale": [
             [
              0,
              "#0d0887"
             ],
             [
              0.1111111111111111,
              "#46039f"
             ],
             [
              0.2222222222222222,
              "#7201a8"
             ],
             [
              0.3333333333333333,
              "#9c179e"
             ],
             [
              0.4444444444444444,
              "#bd3786"
             ],
             [
              0.5555555555555556,
              "#d8576b"
             ],
             [
              0.6666666666666666,
              "#ed7953"
             ],
             [
              0.7777777777777778,
              "#fb9f3a"
             ],
             [
              0.8888888888888888,
              "#fdca26"
             ],
             [
              1,
              "#f0f921"
             ]
            ],
            "type": "histogram2dcontour"
           }
          ],
          "mesh3d": [
           {
            "colorbar": {
             "outlinewidth": 0,
             "ticks": ""
            },
            "type": "mesh3d"
           }
          ],
          "parcoords": [
           {
            "line": {
             "colorbar": {
              "outlinewidth": 0,
              "ticks": ""
             }
            },
            "type": "parcoords"
           }
          ],
          "pie": [
           {
            "automargin": true,
            "type": "pie"
           }
          ],
          "scatter": [
           {
            "marker": {
             "colorbar": {
              "outlinewidth": 0,
              "ticks": ""
             }
            },
            "type": "scatter"
           }
          ],
          "scatter3d": [
           {
            "line": {
             "colorbar": {
              "outlinewidth": 0,
              "ticks": ""
             }
            },
            "marker": {
             "colorbar": {
              "outlinewidth": 0,
              "ticks": ""
             }
            },
            "type": "scatter3d"
           }
          ],
          "scattercarpet": [
           {
            "marker": {
             "colorbar": {
              "outlinewidth": 0,
              "ticks": ""
             }
            },
            "type": "scattercarpet"
           }
          ],
          "scattergeo": [
           {
            "marker": {
             "colorbar": {
              "outlinewidth": 0,
              "ticks": ""
             }
            },
            "type": "scattergeo"
           }
          ],
          "scattergl": [
           {
            "marker": {
             "colorbar": {
              "outlinewidth": 0,
              "ticks": ""
             }
            },
            "type": "scattergl"
           }
          ],
          "scattermapbox": [
           {
            "marker": {
             "colorbar": {
              "outlinewidth": 0,
              "ticks": ""
             }
            },
            "type": "scattermapbox"
           }
          ],
          "scatterpolar": [
           {
            "marker": {
             "colorbar": {
              "outlinewidth": 0,
              "ticks": ""
             }
            },
            "type": "scatterpolar"
           }
          ],
          "scatterpolargl": [
           {
            "marker": {
             "colorbar": {
              "outlinewidth": 0,
              "ticks": ""
             }
            },
            "type": "scatterpolargl"
           }
          ],
          "scatterternary": [
           {
            "marker": {
             "colorbar": {
              "outlinewidth": 0,
              "ticks": ""
             }
            },
            "type": "scatterternary"
           }
          ],
          "surface": [
           {
            "colorbar": {
             "outlinewidth": 0,
             "ticks": ""
            },
            "colorscale": [
             [
              0,
              "#0d0887"
             ],
             [
              0.1111111111111111,
              "#46039f"
             ],
             [
              0.2222222222222222,
              "#7201a8"
             ],
             [
              0.3333333333333333,
              "#9c179e"
             ],
             [
              0.4444444444444444,
              "#bd3786"
             ],
             [
              0.5555555555555556,
              "#d8576b"
             ],
             [
              0.6666666666666666,
              "#ed7953"
             ],
             [
              0.7777777777777778,
              "#fb9f3a"
             ],
             [
              0.8888888888888888,
              "#fdca26"
             ],
             [
              1,
              "#f0f921"
             ]
            ],
            "type": "surface"
           }
          ],
          "table": [
           {
            "cells": {
             "fill": {
              "color": "#EBF0F8"
             },
             "line": {
              "color": "white"
             }
            },
            "header": {
             "fill": {
              "color": "#C8D4E3"
             },
             "line": {
              "color": "white"
             }
            },
            "type": "table"
           }
          ]
         },
         "layout": {
          "annotationdefaults": {
           "arrowcolor": "#2a3f5f",
           "arrowhead": 0,
           "arrowwidth": 1
          },
          "autotypenumbers": "strict",
          "coloraxis": {
           "colorbar": {
            "outlinewidth": 0,
            "ticks": ""
           }
          },
          "colorscale": {
           "diverging": [
            [
             0,
             "#8e0152"
            ],
            [
             0.1,
             "#c51b7d"
            ],
            [
             0.2,
             "#de77ae"
            ],
            [
             0.3,
             "#f1b6da"
            ],
            [
             0.4,
             "#fde0ef"
            ],
            [
             0.5,
             "#f7f7f7"
            ],
            [
             0.6,
             "#e6f5d0"
            ],
            [
             0.7,
             "#b8e186"
            ],
            [
             0.8,
             "#7fbc41"
            ],
            [
             0.9,
             "#4d9221"
            ],
            [
             1,
             "#276419"
            ]
           ],
           "sequential": [
            [
             0,
             "#0d0887"
            ],
            [
             0.1111111111111111,
             "#46039f"
            ],
            [
             0.2222222222222222,
             "#7201a8"
            ],
            [
             0.3333333333333333,
             "#9c179e"
            ],
            [
             0.4444444444444444,
             "#bd3786"
            ],
            [
             0.5555555555555556,
             "#d8576b"
            ],
            [
             0.6666666666666666,
             "#ed7953"
            ],
            [
             0.7777777777777778,
             "#fb9f3a"
            ],
            [
             0.8888888888888888,
             "#fdca26"
            ],
            [
             1,
             "#f0f921"
            ]
           ],
           "sequentialminus": [
            [
             0,
             "#0d0887"
            ],
            [
             0.1111111111111111,
             "#46039f"
            ],
            [
             0.2222222222222222,
             "#7201a8"
            ],
            [
             0.3333333333333333,
             "#9c179e"
            ],
            [
             0.4444444444444444,
             "#bd3786"
            ],
            [
             0.5555555555555556,
             "#d8576b"
            ],
            [
             0.6666666666666666,
             "#ed7953"
            ],
            [
             0.7777777777777778,
             "#fb9f3a"
            ],
            [
             0.8888888888888888,
             "#fdca26"
            ],
            [
             1,
             "#f0f921"
            ]
           ]
          },
          "colorway": [
           "#636efa",
           "#EF553B",
           "#00cc96",
           "#ab63fa",
           "#FFA15A",
           "#19d3f3",
           "#FF6692",
           "#B6E880",
           "#FF97FF",
           "#FECB52"
          ],
          "font": {
           "color": "#2a3f5f"
          },
          "geo": {
           "bgcolor": "white",
           "lakecolor": "white",
           "landcolor": "#E5ECF6",
           "showlakes": true,
           "showland": true,
           "subunitcolor": "white"
          },
          "hoverlabel": {
           "align": "left"
          },
          "hovermode": "closest",
          "mapbox": {
           "style": "light"
          },
          "paper_bgcolor": "white",
          "plot_bgcolor": "#E5ECF6",
          "polar": {
           "angularaxis": {
            "gridcolor": "white",
            "linecolor": "white",
            "ticks": ""
           },
           "bgcolor": "#E5ECF6",
           "radialaxis": {
            "gridcolor": "white",
            "linecolor": "white",
            "ticks": ""
           }
          },
          "scene": {
           "xaxis": {
            "backgroundcolor": "#E5ECF6",
            "gridcolor": "white",
            "gridwidth": 2,
            "linecolor": "white",
            "showbackground": true,
            "ticks": "",
            "zerolinecolor": "white"
           },
           "yaxis": {
            "backgroundcolor": "#E5ECF6",
            "gridcolor": "white",
            "gridwidth": 2,
            "linecolor": "white",
            "showbackground": true,
            "ticks": "",
            "zerolinecolor": "white"
           },
           "zaxis": {
            "backgroundcolor": "#E5ECF6",
            "gridcolor": "white",
            "gridwidth": 2,
            "linecolor": "white",
            "showbackground": true,
            "ticks": "",
            "zerolinecolor": "white"
           }
          },
          "shapedefaults": {
           "line": {
            "color": "#2a3f5f"
           }
          },
          "ternary": {
           "aaxis": {
            "gridcolor": "white",
            "linecolor": "white",
            "ticks": ""
           },
           "baxis": {
            "gridcolor": "white",
            "linecolor": "white",
            "ticks": ""
           },
           "bgcolor": "#E5ECF6",
           "caxis": {
            "gridcolor": "white",
            "linecolor": "white",
            "ticks": ""
           }
          },
          "title": {
           "x": 0.05
          },
          "xaxis": {
           "automargin": true,
           "gridcolor": "white",
           "linecolor": "white",
           "ticks": "",
           "title": {
            "standoff": 15
           },
           "zerolinecolor": "white",
           "zerolinewidth": 2
          },
          "yaxis": {
           "automargin": true,
           "gridcolor": "white",
           "linecolor": "white",
           "ticks": "",
           "title": {
            "standoff": 15
           },
           "zerolinecolor": "white",
           "zerolinewidth": 2
          }
         }
        },
        "xaxis": {
         "anchor": "y",
         "domain": [
          0,
          1
         ],
         "title": {
          "text": "Timepoint"
         }
        },
        "yaxis": {
         "anchor": "x",
         "domain": [
          0,
          1
         ],
         "title": {
          "text": "Density"
         }
        }
       }
      },
      "text/html": [
       "<div>                            <div id=\"f51524ea-866c-4041-9e27-2478dbb3603f\" class=\"plotly-graph-div\" style=\"height:800px; width:100%;\"></div>            <script type=\"text/javascript\">                require([\"plotly\"], function(Plotly) {                    window.PLOTLYENV=window.PLOTLYENV || {};                                    if (document.getElementById(\"f51524ea-866c-4041-9e27-2478dbb3603f\")) {                    Plotly.newPlot(                        \"f51524ea-866c-4041-9e27-2478dbb3603f\",                        [{\"alignmentgroup\": \"True\", \"boxpoints\": \"all\", \"customdata\": [[75, \"./20211221_152540_452\\\\Plate004_Well4_Object9.tif_projection.tif\", \"Far red\"], [69, \"./20211221_152540_452\\\\Plate004_Well4_Object8.tif_projection.tif\", \"Far red\"], [44, \"./20211221_152540_452\\\\Plate004_Well3_Object0.tif_projection.tif\", \"Far red\"], [41, \"./20211221_152540_452\\\\Plate004_Well3_Object2.tif_projection.tif\", \"Far red\"], [49, \"./20211221_152540_452\\\\Plate004_Well3_Object3.tif_projection.tif\", \"Far red\"], [43, \"./20211221_152540_452\\\\Plate004_Well3_Object4.tif_projection.tif\", \"Far red\"], [46, \"./20211221_152540_452\\\\Plate004_Well3_Object5.tif_projection.tif\", \"Far red\"], [47, \"./20211221_152540_452\\\\Plate004_Well3_Object6.tif_projection.tif\", \"Far red\"], [45, \"./20211221_152540_452\\\\Plate004_Well3_Object7.tif_projection.tif\", \"Far red\"], [48, \"./20211221_152540_452\\\\Plate004_Well3_Object1.tif_projection.tif\", \"Far red\"], [71, \"./20211221_152540_452\\\\Plate004_Well4_Object0.tif_projection.tif\", \"Far red\"], [70, \"./20211221_152540_452\\\\Plate004_Well4_Object1.tif_projection.tif\", \"Far red\"], [67, \"./20211221_152540_452\\\\Plate004_Well4_Object2.tif_projection.tif\", \"Far red\"], [73, \"./20211221_152540_452\\\\Plate004_Well4_Object3.tif_projection.tif\", \"Far red\"], [68, \"./20211221_152540_452\\\\Plate004_Well4_Object4.tif_projection.tif\", \"Far red\"], [74, \"./20211221_152540_452\\\\Plate004_Well4_Object5.tif_projection.tif\", \"Far red\"], [72, \"./20211221_152540_452\\\\Plate004_Well4_Object6.tif_projection.tif\", \"Far red\"], [66, \"./20211221_152540_452\\\\Plate004_Well4_Object7.tif_projection.tif\", \"Far red\"], [42, \"./20211221_152540_452\\\\Plate004_Well3_Object8.tif_projection.tif\", \"Far red\"]], \"hovertemplate\": \"RNAi=WT<br>Timepoint=%{x}<br>Density=%{y}<br>index=%{customdata[0]}<br>File=%{customdata[1]}<br>Color=%{customdata[2]}<extra></extra>\", \"legendgroup\": \"WT\", \"marker\": {\"color\": \"#636efa\"}, \"name\": \"WT\", \"notched\": false, \"offsetgroup\": \"WT\", \"orientation\": \"v\", \"showlegend\": true, \"type\": \"box\", \"x\": [\"0 dpa\", \"0 dpa\", \"0 dpa\", \"0 dpa\", \"0 dpa\", \"0 dpa\", \"0 dpa\", \"0 dpa\", \"0 dpa\", \"0 dpa\", \"0 dpa\", \"0 dpa\", \"0 dpa\", \"0 dpa\", \"0 dpa\", \"0 dpa\", \"0 dpa\", \"0 dpa\", \"0 dpa\"], \"x0\": \" \", \"xaxis\": \"x\", \"y\": [99.76834016796401, 112.83547488479249, 89.73356167294372, 111.99437135687421, 182.5877655172879, 119.29106805882431, 113.11769104892984, 114.12424189028738, 153.65942574495497, 125.50629112332861, 136.0948047481106, 177.6177549594732, 232.5421676496777, 127.11576978633633, 127.96566691855658, 87.66480303568484, 107.5767606125321, 169.65335438504704, 98.28977197394585], \"y0\": \" \", \"yaxis\": \"y\"}, {\"alignmentgroup\": \"True\", \"boxpoints\": \"all\", \"customdata\": [[61, \"./20211221_152540_452\\\\Plate001_Well3_Object8.tif_projection.tif\", \"Red\"], [65, \"./20211221_152540_452\\\\Plate001_Well3_Object9.tif_projection.tif\", \"Red\"], [56, \"./20211221_152540_452\\\\Plate001_Well3_Object7.tif_projection.tif\", \"Red\"], [60, \"./20211221_152540_452\\\\Plate001_Well3_Object6.tif_projection.tif\", \"Red\"], [94, \"./20211221_152540_452\\\\Plate000_Well3_Object0.tif_projection.tif\", \"Far red\"], [64, \"./20211221_152540_452\\\\Plate001_Well3_Object4.tif_projection.tif\", \"Red\"], [63, \"./20211221_152540_452\\\\Plate001_Well3_Object5.tif_projection.tif\", \"Red\"], [97, \"./20211221_152540_452\\\\Plate000_Well3_Object9.tif_projection.tif\", \"Far red\"], [95, \"./20211221_152540_452\\\\Plate000_Well3_Object8.tif_projection.tif\", \"Far red\"], [93, \"./20211221_152540_452\\\\Plate000_Well3_Object7.tif_projection.tif\", \"Far red\"], [92, \"./20211221_152540_452\\\\Plate000_Well3_Object5.tif_projection.tif\", \"Far red\"], [87, \"./20211221_152540_452\\\\Plate000_Well3_Object4.tif_projection.tif\", \"Far red\"], [62, \"./20211221_152540_452\\\\Plate001_Well3_Object1.tif_projection.tif\", \"Red\"], [88, \"./20211221_152540_452\\\\Plate000_Well3_Object3.tif_projection.tif\", \"Far red\"], [90, \"./20211221_152540_452\\\\Plate000_Well3_Object2.tif_projection.tif\", \"Far red\"], [96, \"./20211221_152540_452\\\\Plate000_Well3_Object10.tif_projection.tif\", \"Far red\"], [89, \"./20211221_152540_452\\\\Plate000_Well3_Object1.tif_projection.tif\", \"Far red\"], [58, \"./20211221_152540_452\\\\Plate001_Well3_Object2.tif_projection.tif\", \"Red\"], [59, \"./20211221_152540_452\\\\Plate001_Well3_Object3.tif_projection.tif\", \"Red\"], [91, \"./20211221_152540_452\\\\Plate000_Well3_Object6.tif_projection.tif\", \"Far red\"], [126, \"./20211221_152540_452\\\\Plate000_Well4_Object0.tif_projection.tif\", \"Far red\"], [122, \"./20211221_152540_452\\\\Plate000_Well4_Object1.tif_projection.tif\", \"Far red\"], [125, \"./20211221_152540_452\\\\Plate000_Well4_Object2.tif_projection.tif\", \"Far red\"], [124, \"./20211221_152540_452\\\\Plate000_Well4_Object3.tif_projection.tif\", \"Far red\"], [123, \"./20211221_152540_452\\\\Plate000_Well4_Object4.tif_projection.tif\", \"Far red\"], [76, \"./20211221_152540_452\\\\Plate001_Well4_Object4.tif_projection.tif\", \"Red\"], [79, \"./20211221_152540_452\\\\Plate001_Well4_Object0.tif_projection.tif\", \"Red\"], [78, \"./20211221_152540_452\\\\Plate001_Well4_Object1.tif_projection.tif\", \"Red\"], [80, \"./20211221_152540_452\\\\Plate001_Well4_Object2.tif_projection.tif\", \"Red\"], [77, \"./20211221_152540_452\\\\Plate001_Well4_Object3.tif_projection.tif\", \"Red\"], [127, \"./20211221_152540_452\\\\Plate004_Well1_Object0.tif_projection.tif\", \"Red\"], [129, \"./20211221_152540_452\\\\Plate004_Well1_Object2.tif_projection.tif\", \"Red\"], [128, \"./20211221_152540_452\\\\Plate004_Well1_Object1.tif_projection.tif\", \"Red\"]], \"hovertemplate\": \"RNAi=unc<br>Timepoint=%{x}<br>Density=%{y}<br>index=%{customdata[0]}<br>File=%{customdata[1]}<br>Color=%{customdata[2]}<extra></extra>\", \"legendgroup\": \"unc\", \"marker\": {\"color\": \"#EF553B\"}, \"name\": \"unc\", \"notched\": false, \"offsetgroup\": \"unc\", \"orientation\": \"v\", \"showlegend\": true, \"type\": \"box\", \"x\": [\"2 dpa\", \"2 dpa\", \"2 dpa\", \"2 dpa\", \"2 dpa\", \"2 dpa\", \"2 dpa\", \"2 dpa\", \"2 dpa\", \"2 dpa\", \"2 dpa\", \"2 dpa\", \"2 dpa\", \"2 dpa\", \"2 dpa\", \"2 dpa\", \"2 dpa\", \"2 dpa\", \"2 dpa\", \"2 dpa\", \"4 dpa\", \"4 dpa\", \"4 dpa\", \"4 dpa\", \"4 dpa\", \"4 dpa\", \"4 dpa\", \"4 dpa\", \"4 dpa\", \"4 dpa\", \"7 dpa\", \"7 dpa\", \"7 dpa\"], \"x0\": \" \", \"xaxis\": \"x\", \"y\": [345.3136384264716, 460.0326478100175, 324.79259243184254, 363.84643741767155, 418.28132765535446, 503.0949908771885, 423.9807090683852, 364.2784277358381, 406.9123516776357, 387.356270903667, 340.7446283574194, 333.8717948916693, 391.3150578458806, 459.2034335191768, 386.702069688907, 462.15295275283836, 396.86689831301294, 390.72446253415575, 396.63072147960344, 394.8495061321948, 276.82939364507666, 288.7850986309622, 291.0890942287263, 315.4614302651791, 298.19916712846424, 322.36225786225475, 275.7671727873229, 320.6864071574118, 320.8050968707195, 339.13369881914446, 280.96594992196646, 152.9254617544052, 180.80323586450368], \"y0\": \" \", \"yaxis\": \"y\"}, {\"alignmentgroup\": \"True\", \"boxpoints\": \"all\", \"customdata\": [[114, \"./20211221_152540_452\\\\Plate002_Well1_Object0.tif_projection.tif\", \"Red\"], [117, \"./20211221_152540_452\\\\Plate002_Well1_Object1.tif_projection.tif\", \"Red\"], [119, \"./20211221_152540_452\\\\Plate002_Well1_Object2.tif_projection.tif\", \"Red\"], [118, \"./20211221_152540_452\\\\Plate002_Well1_Object6.tif_projection.tif\", \"Red\"], [120, \"./20211221_152540_452\\\\Plate002_Well1_Object4.tif_projection.tif\", \"Red\"], [121, \"./20211221_152540_452\\\\Plate002_Well1_Object5.tif_projection.tif\", \"Red\"], [115, \"./20211221_152540_452\\\\Plate002_Well1_Object7.tif_projection.tif\", \"Red\"], [113, \"./20211221_152540_452\\\\Plate002_Well1_Object8.tif_projection.tif\", \"Red\"], [116, \"./20211221_152540_452\\\\Plate002_Well1_Object9.tif_projection.tif\", \"Red\"], [112, \"./20211221_152540_452\\\\Plate002_Well1_Object3.tif_projection.tif\", \"Red\"], [35, \"./20211221_152540_452\\\\Plate001_Well1_Object5.tif_projection.tif\", \"Far red\"], [40, \"./20211221_152540_452\\\\Plate001_Well1_Object6.tif_projection.tif\", \"Far red\"], [36, \"./20211221_152540_452\\\\Plate001_Well1_Object7.tif_projection.tif\", \"Far red\"], [34, \"./20211221_152540_452\\\\Plate001_Well1_Object8.tif_projection.tif\", \"Far red\"], [32, \"./20211221_152540_452\\\\Plate001_Well1_Object2.tif_projection.tif\", \"Far red\"], [38, \"./20211221_152540_452\\\\Plate001_Well1_Object9.tif_projection.tif\", \"Far red\"], [31, \"./20211221_152540_452\\\\Plate001_Well1_Object4.tif_projection.tif\", \"Far red\"], [82, \"./20211221_152540_452\\\\Plate001_Well2_Object1.tif_projection.tif\", \"Far red\"], [0, \"./20211221_152540_452\\\\Plate002_Well2_Object5.tif_projection.tif\", \"Red\"], [1, \"./20211221_152540_452\\\\Plate002_Well2_Object4.tif_projection.tif\", \"Red\"], [3, \"./20211221_152540_452\\\\Plate002_Well2_Object3.tif_projection.tif\", \"Red\"], [5, \"./20211221_152540_452\\\\Plate002_Well2_Object2.tif_projection.tif\", \"Red\"], [2, \"./20211221_152540_452\\\\Plate002_Well2_Object1.tif_projection.tif\", \"Red\"], [84, \"./20211221_152540_452\\\\Plate001_Well2_Object5.tif_projection.tif\", \"Far red\"], [86, \"./20211221_152540_452\\\\Plate001_Well2_Object2.tif_projection.tif\", \"Far red\"], [81, \"./20211221_152540_452\\\\Plate001_Well2_Object3.tif_projection.tif\", \"Far red\"], [83, \"./20211221_152540_452\\\\Plate001_Well2_Object4.tif_projection.tif\", \"Far red\"], [103, \"./20211221_152540_452\\\\Plate004_Well2_Object2.tif_projection.tif\", \"Red\"], [104, \"./20211221_152540_452\\\\Plate004_Well2_Object0.tif_projection.tif\", \"Red\"], [102, \"./20211221_152540_452\\\\Plate004_Well2_Object3.tif_projection.tif\", \"Red\"], [105, \"./20211221_152540_452\\\\Plate004_Well2_Object1.tif_projection.tif\", \"Red\"]], \"hovertemplate\": \"RNAi=pabp2<br>Timepoint=%{x}<br>Density=%{y}<br>index=%{customdata[0]}<br>File=%{customdata[1]}<br>Color=%{customdata[2]}<extra></extra>\", \"legendgroup\": \"pabp2\", \"marker\": {\"color\": \"#00cc96\"}, \"name\": \"pabp2\", \"notched\": false, \"offsetgroup\": \"pabp2\", \"orientation\": \"v\", \"showlegend\": true, \"type\": \"box\", \"x\": [\"2 dpa\", \"2 dpa\", \"2 dpa\", \"2 dpa\", \"2 dpa\", \"2 dpa\", \"2 dpa\", \"2 dpa\", \"2 dpa\", \"2 dpa\", \"2 dpa\", \"2 dpa\", \"2 dpa\", \"2 dpa\", \"2 dpa\", \"2 dpa\", \"2 dpa\", \"4 dpa\", \"4 dpa\", \"4 dpa\", \"4 dpa\", \"4 dpa\", \"4 dpa\", \"4 dpa\", \"4 dpa\", \"4 dpa\", \"4 dpa\", \"7 dpa\", \"7 dpa\", \"7 dpa\", \"7 dpa\"], \"x0\": \" \", \"xaxis\": \"x\", \"y\": [500.1114301158904, 472.13431973067406, 531.3283855974304, 494.9624107011627, 405.39120228692775, 420.21866702170985, 459.48366423440683, 450.9200352046377, 500.6293642284868, 441.01842423473653, 607.766194946506, 512.1832527849413, 396.3332026768121, 461.0720634340205, 333.79728661121874, 261.0317991531206, 528.5546433986917, 318.09681040825683, 482.5547077244915, 467.55997436967647, 498.2509946337443, 540.1004380956481, 486.1912957000812, 398.3824393992165, 408.0451435696384, 349.33924816843603, 476.50857697903047, 325.8062312998475, 164.0410225048845, 24.28019942659611, 87.25226870752137], \"y0\": \" \", \"yaxis\": \"y\"}],                        {\"boxmode\": \"group\", \"height\": 800, \"legend\": {\"title\": {\"text\": \"RNAi\"}, \"tracegroupgap\": 0}, \"margin\": {\"t\": 60}, \"template\": {\"data\": {\"bar\": [{\"error_x\": {\"color\": \"#2a3f5f\"}, \"error_y\": {\"color\": \"#2a3f5f\"}, \"marker\": {\"line\": {\"color\": \"#E5ECF6\", \"width\": 0.5}}, \"type\": \"bar\"}], \"barpolar\": [{\"marker\": {\"line\": {\"color\": \"#E5ECF6\", \"width\": 0.5}}, \"type\": \"barpolar\"}], \"carpet\": [{\"aaxis\": {\"endlinecolor\": \"#2a3f5f\", \"gridcolor\": \"white\", \"linecolor\": \"white\", \"minorgridcolor\": \"white\", \"startlinecolor\": \"#2a3f5f\"}, \"baxis\": {\"endlinecolor\": \"#2a3f5f\", \"gridcolor\": \"white\", \"linecolor\": \"white\", \"minorgridcolor\": \"white\", \"startlinecolor\": \"#2a3f5f\"}, \"type\": \"carpet\"}], \"choropleth\": [{\"colorbar\": {\"outlinewidth\": 0, \"ticks\": \"\"}, \"type\": \"choropleth\"}], \"contour\": [{\"colorbar\": {\"outlinewidth\": 0, \"ticks\": \"\"}, \"colorscale\": [[0.0, \"#0d0887\"], [0.1111111111111111, \"#46039f\"], [0.2222222222222222, \"#7201a8\"], [0.3333333333333333, \"#9c179e\"], [0.4444444444444444, \"#bd3786\"], [0.5555555555555556, \"#d8576b\"], [0.6666666666666666, \"#ed7953\"], [0.7777777777777778, \"#fb9f3a\"], [0.8888888888888888, \"#fdca26\"], [1.0, \"#f0f921\"]], \"type\": \"contour\"}], \"contourcarpet\": [{\"colorbar\": {\"outlinewidth\": 0, \"ticks\": \"\"}, \"type\": \"contourcarpet\"}], \"heatmap\": [{\"colorbar\": {\"outlinewidth\": 0, \"ticks\": \"\"}, \"colorscale\": [[0.0, \"#0d0887\"], [0.1111111111111111, \"#46039f\"], [0.2222222222222222, \"#7201a8\"], [0.3333333333333333, \"#9c179e\"], [0.4444444444444444, \"#bd3786\"], [0.5555555555555556, \"#d8576b\"], [0.6666666666666666, \"#ed7953\"], [0.7777777777777778, \"#fb9f3a\"], [0.8888888888888888, \"#fdca26\"], [1.0, \"#f0f921\"]], \"type\": \"heatmap\"}], \"heatmapgl\": [{\"colorbar\": {\"outlinewidth\": 0, \"ticks\": \"\"}, \"colorscale\": [[0.0, \"#0d0887\"], [0.1111111111111111, \"#46039f\"], [0.2222222222222222, \"#7201a8\"], [0.3333333333333333, \"#9c179e\"], [0.4444444444444444, \"#bd3786\"], [0.5555555555555556, \"#d8576b\"], [0.6666666666666666, \"#ed7953\"], [0.7777777777777778, \"#fb9f3a\"], [0.8888888888888888, \"#fdca26\"], [1.0, \"#f0f921\"]], \"type\": \"heatmapgl\"}], \"histogram\": [{\"marker\": {\"colorbar\": {\"outlinewidth\": 0, \"ticks\": \"\"}}, \"type\": \"histogram\"}], \"histogram2d\": [{\"colorbar\": {\"outlinewidth\": 0, \"ticks\": \"\"}, \"colorscale\": [[0.0, \"#0d0887\"], [0.1111111111111111, \"#46039f\"], [0.2222222222222222, \"#7201a8\"], [0.3333333333333333, \"#9c179e\"], [0.4444444444444444, \"#bd3786\"], [0.5555555555555556, \"#d8576b\"], [0.6666666666666666, \"#ed7953\"], [0.7777777777777778, \"#fb9f3a\"], [0.8888888888888888, \"#fdca26\"], [1.0, \"#f0f921\"]], \"type\": \"histogram2d\"}], \"histogram2dcontour\": [{\"colorbar\": {\"outlinewidth\": 0, \"ticks\": \"\"}, \"colorscale\": [[0.0, \"#0d0887\"], [0.1111111111111111, \"#46039f\"], [0.2222222222222222, \"#7201a8\"], [0.3333333333333333, \"#9c179e\"], [0.4444444444444444, \"#bd3786\"], [0.5555555555555556, \"#d8576b\"], [0.6666666666666666, \"#ed7953\"], [0.7777777777777778, \"#fb9f3a\"], [0.8888888888888888, \"#fdca26\"], [1.0, \"#f0f921\"]], \"type\": \"histogram2dcontour\"}], \"mesh3d\": [{\"colorbar\": {\"outlinewidth\": 0, \"ticks\": \"\"}, \"type\": \"mesh3d\"}], \"parcoords\": [{\"line\": {\"colorbar\": {\"outlinewidth\": 0, \"ticks\": \"\"}}, \"type\": \"parcoords\"}], \"pie\": [{\"automargin\": true, \"type\": \"pie\"}], \"scatter\": [{\"marker\": {\"colorbar\": {\"outlinewidth\": 0, \"ticks\": \"\"}}, \"type\": \"scatter\"}], \"scatter3d\": [{\"line\": {\"colorbar\": {\"outlinewidth\": 0, \"ticks\": \"\"}}, \"marker\": {\"colorbar\": {\"outlinewidth\": 0, \"ticks\": \"\"}}, \"type\": \"scatter3d\"}], \"scattercarpet\": [{\"marker\": {\"colorbar\": {\"outlinewidth\": 0, \"ticks\": \"\"}}, \"type\": \"scattercarpet\"}], \"scattergeo\": [{\"marker\": {\"colorbar\": {\"outlinewidth\": 0, \"ticks\": \"\"}}, \"type\": \"scattergeo\"}], \"scattergl\": [{\"marker\": {\"colorbar\": {\"outlinewidth\": 0, \"ticks\": \"\"}}, \"type\": \"scattergl\"}], \"scattermapbox\": [{\"marker\": {\"colorbar\": {\"outlinewidth\": 0, \"ticks\": \"\"}}, \"type\": \"scattermapbox\"}], \"scatterpolar\": [{\"marker\": {\"colorbar\": {\"outlinewidth\": 0, \"ticks\": \"\"}}, \"type\": \"scatterpolar\"}], \"scatterpolargl\": [{\"marker\": {\"colorbar\": {\"outlinewidth\": 0, \"ticks\": \"\"}}, \"type\": \"scatterpolargl\"}], \"scatterternary\": [{\"marker\": {\"colorbar\": {\"outlinewidth\": 0, \"ticks\": \"\"}}, \"type\": \"scatterternary\"}], \"surface\": [{\"colorbar\": {\"outlinewidth\": 0, \"ticks\": \"\"}, \"colorscale\": [[0.0, \"#0d0887\"], [0.1111111111111111, \"#46039f\"], [0.2222222222222222, \"#7201a8\"], [0.3333333333333333, \"#9c179e\"], [0.4444444444444444, \"#bd3786\"], [0.5555555555555556, \"#d8576b\"], [0.6666666666666666, \"#ed7953\"], [0.7777777777777778, \"#fb9f3a\"], [0.8888888888888888, \"#fdca26\"], [1.0, \"#f0f921\"]], \"type\": \"surface\"}], \"table\": [{\"cells\": {\"fill\": {\"color\": \"#EBF0F8\"}, \"line\": {\"color\": \"white\"}}, \"header\": {\"fill\": {\"color\": \"#C8D4E3\"}, \"line\": {\"color\": \"white\"}}, \"type\": \"table\"}]}, \"layout\": {\"annotationdefaults\": {\"arrowcolor\": \"#2a3f5f\", \"arrowhead\": 0, \"arrowwidth\": 1}, \"autotypenumbers\": \"strict\", \"coloraxis\": {\"colorbar\": {\"outlinewidth\": 0, \"ticks\": \"\"}}, \"colorscale\": {\"diverging\": [[0, \"#8e0152\"], [0.1, \"#c51b7d\"], [0.2, \"#de77ae\"], [0.3, \"#f1b6da\"], [0.4, \"#fde0ef\"], [0.5, \"#f7f7f7\"], [0.6, \"#e6f5d0\"], [0.7, \"#b8e186\"], [0.8, \"#7fbc41\"], [0.9, \"#4d9221\"], [1, \"#276419\"]], \"sequential\": [[0.0, \"#0d0887\"], [0.1111111111111111, \"#46039f\"], [0.2222222222222222, \"#7201a8\"], [0.3333333333333333, \"#9c179e\"], [0.4444444444444444, \"#bd3786\"], [0.5555555555555556, \"#d8576b\"], [0.6666666666666666, \"#ed7953\"], [0.7777777777777778, \"#fb9f3a\"], [0.8888888888888888, \"#fdca26\"], [1.0, \"#f0f921\"]], \"sequentialminus\": [[0.0, \"#0d0887\"], [0.1111111111111111, \"#46039f\"], [0.2222222222222222, \"#7201a8\"], [0.3333333333333333, \"#9c179e\"], [0.4444444444444444, \"#bd3786\"], [0.5555555555555556, \"#d8576b\"], [0.6666666666666666, \"#ed7953\"], [0.7777777777777778, \"#fb9f3a\"], [0.8888888888888888, \"#fdca26\"], [1.0, \"#f0f921\"]]}, \"colorway\": [\"#636efa\", \"#EF553B\", \"#00cc96\", \"#ab63fa\", \"#FFA15A\", \"#19d3f3\", \"#FF6692\", \"#B6E880\", \"#FF97FF\", \"#FECB52\"], \"font\": {\"color\": \"#2a3f5f\"}, \"geo\": {\"bgcolor\": \"white\", \"lakecolor\": \"white\", \"landcolor\": \"#E5ECF6\", \"showlakes\": true, \"showland\": true, \"subunitcolor\": \"white\"}, \"hoverlabel\": {\"align\": \"left\"}, \"hovermode\": \"closest\", \"mapbox\": {\"style\": \"light\"}, \"paper_bgcolor\": \"white\", \"plot_bgcolor\": \"#E5ECF6\", \"polar\": {\"angularaxis\": {\"gridcolor\": \"white\", \"linecolor\": \"white\", \"ticks\": \"\"}, \"bgcolor\": \"#E5ECF6\", \"radialaxis\": {\"gridcolor\": \"white\", \"linecolor\": \"white\", \"ticks\": \"\"}}, \"scene\": {\"xaxis\": {\"backgroundcolor\": \"#E5ECF6\", \"gridcolor\": \"white\", \"gridwidth\": 2, \"linecolor\": \"white\", \"showbackground\": true, \"ticks\": \"\", \"zerolinecolor\": \"white\"}, \"yaxis\": {\"backgroundcolor\": \"#E5ECF6\", \"gridcolor\": \"white\", \"gridwidth\": 2, \"linecolor\": \"white\", \"showbackground\": true, \"ticks\": \"\", \"zerolinecolor\": \"white\"}, \"zaxis\": {\"backgroundcolor\": \"#E5ECF6\", \"gridcolor\": \"white\", \"gridwidth\": 2, \"linecolor\": \"white\", \"showbackground\": true, \"ticks\": \"\", \"zerolinecolor\": \"white\"}}, \"shapedefaults\": {\"line\": {\"color\": \"#2a3f5f\"}}, \"ternary\": {\"aaxis\": {\"gridcolor\": \"white\", \"linecolor\": \"white\", \"ticks\": \"\"}, \"baxis\": {\"gridcolor\": \"white\", \"linecolor\": \"white\", \"ticks\": \"\"}, \"bgcolor\": \"#E5ECF6\", \"caxis\": {\"gridcolor\": \"white\", \"linecolor\": \"white\", \"ticks\": \"\"}}, \"title\": {\"x\": 0.05}, \"xaxis\": {\"automargin\": true, \"gridcolor\": \"white\", \"linecolor\": \"white\", \"ticks\": \"\", \"title\": {\"standoff\": 15}, \"zerolinecolor\": \"white\", \"zerolinewidth\": 2}, \"yaxis\": {\"automargin\": true, \"gridcolor\": \"white\", \"linecolor\": \"white\", \"ticks\": \"\", \"title\": {\"standoff\": 15}, \"zerolinecolor\": \"white\", \"zerolinewidth\": 2}}}, \"xaxis\": {\"anchor\": \"y\", \"domain\": [0.0, 1.0], \"title\": {\"text\": \"Timepoint\"}}, \"yaxis\": {\"anchor\": \"x\", \"domain\": [0.0, 1.0], \"title\": {\"text\": \"Density\"}}},                        {\"responsive\": true}                    ).then(function(){\n",
       "                            \n",
       "var gd = document.getElementById('f51524ea-866c-4041-9e27-2478dbb3603f');\n",
       "var x = new MutationObserver(function (mutations, observer) {{\n",
       "        var display = window.getComputedStyle(gd).display;\n",
       "        if (!display || display === 'none') {{\n",
       "            console.log([gd, 'removed!']);\n",
       "            Plotly.purge(gd);\n",
       "            observer.disconnect();\n",
       "        }}\n",
       "}});\n",
       "\n",
       "// Listen for the removal of the full notebook cells\n",
       "var notebookContainer = gd.closest('#notebook-container');\n",
       "if (notebookContainer) {{\n",
       "    x.observe(notebookContainer, {childList: true});\n",
       "}}\n",
       "\n",
       "// Listen for the clearing of the current output cell\n",
       "var outputEl = gd.closest('.output');\n",
       "if (outputEl) {{\n",
       "    x.observe(outputEl, {childList: true});\n",
       "}}\n",
       "\n",
       "                        })                };                });            </script>        </div>"
      ]
     },
     "metadata": {},
     "output_type": "display_data"
    }
   ],
   "source": [
    "fig = px.box(df.reset_index(), x='Timepoint', y='Density2', color='RNAi', points='all', \n",
    "       height=800, hover_data=['index', 'File', 'Color'])\n",
    "fig.write_image('Results.pdf')\n",
    "fig"
   ]
  },
  {
   "cell_type": "code",
   "execution_count": null,
   "metadata": {},
   "outputs": [],
   "source": []
  }
 ],
 "metadata": {
  "kernelspec": {
   "display_name": "Python 3",
   "language": "python",
   "name": "python3"
  },
  "language_info": {
   "codemirror_mode": {
    "name": "ipython",
    "version": 3
   },
   "file_extension": ".py",
   "mimetype": "text/x-python",
   "name": "python",
   "nbconvert_exporter": "python",
   "pygments_lexer": "ipython3",
   "version": "3.7.10"
  }
 },
 "nbformat": 4,
 "nbformat_minor": 4
}
